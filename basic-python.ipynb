{
 "cells": [
  {
   "cell_type": "code",
   "execution_count": 4,
   "metadata": {},
   "outputs": [
    {
     "name": "stdout",
     "output_type": "stream",
     "text": [
      "1\n",
      "2\n",
      "3\n",
      "4\n",
      "5\n"
     ]
    }
   ],
   "source": [
    "#iteration\n",
    "lst = [1,2,3,4,5,6,7,8,9]#or string \"sflghkdsflg\"\n",
    "x = iter(lst)\n",
    "print(next(x))\n",
    "print(next(x))\n",
    "print(next(x))\n",
    "print(next(x))\n",
    "print(next(x))"
   ]
  },
  {
   "cell_type": "code",
   "execution_count": 5,
   "metadata": {},
   "outputs": [
    {
     "name": "stdout",
     "output_type": "stream",
     "text": [
      "14\n",
      "15\n",
      "29\n",
      "-1\n"
     ]
    }
   ],
   "source": [
    "#function\n",
    "#return(x,y)\n",
    "def sm(x,y):\n",
    "    s = x+y\n",
    "    m = x-y\n",
    "    return(s,m)\n",
    "\n",
    "x = int(input())\n",
    "y = int(input())\n",
    "\n",
    "a, b = sm(x,y)\n",
    "print(a)\n",
    "print(b)"
   ]
  },
  {
   "cell_type": "code",
   "execution_count": 7,
   "metadata": {},
   "outputs": [
    {
     "name": "stdout",
     "output_type": "stream",
     "text": [
      "2.0\n"
     ]
    }
   ],
   "source": [
    "def average(*x):\n",
    "    return sum(x)/(len(x))\n",
    "print(average(1,2,3))"
   ]
  },
  {
   "cell_type": "code",
   "execution_count": 1,
   "metadata": {},
   "outputs": [],
   "source": [
    "#rescursion"
   ]
  },
  {
   "cell_type": "code",
   "execution_count": 4,
   "metadata": {},
   "outputs": [
    {
     "name": "stdout",
     "output_type": "stream",
     "text": [
      "10911808\n",
      "10910592\n",
      ".................\n",
      "['a', 'b']\n",
      "['a', 'b']\n",
      "['a', 'c']\n",
      "['a', 'c']\n",
      ".................\n",
      "['a', 'b', 'c']\n",
      "['a', 'b', 'c']\n",
      "['a', 'b', 'c']\n",
      "['a', '45', 'c']\n",
      "................\n",
      "['a', 'b', 'c']\n",
      "['a', 'b', 'c']\n",
      "['a', 'b', 'c']\n",
      "['444', 'b', 'c']\n"
     ]
    }
   ],
   "source": [
    "#copy\n",
    "#changing IDs\n",
    "x = 45 \n",
    "print(id(x))\n",
    "x = 7\n",
    "print(id(x))\n",
    "####################\n",
    "print(\".................\")\n",
    "l1 = ['a','b']\n",
    "l2 = l1\n",
    "print(l1)\n",
    "print(l2)\n",
    "l2[1] = 'c'\n",
    "print(l1)\n",
    "print(l2)\n",
    "####################\n",
    "print(\".................\")\n",
    "l1 = ['a','b','c']\n",
    "l2 = l1[:]\n",
    "print(l1)\n",
    "print(l2)\n",
    "l2[1] = '45'\n",
    "print(l1)\n",
    "print(l2)\n",
    "######deep copy####\n",
    "print(\"................\")\n",
    "from copy import deepcopy\n",
    "l1 = ['a','b','c']\n",
    "l2  = deepcopy(l1)\n",
    "print(l1)\n",
    "print(l2)\n",
    "l2[0] = '444'\n",
    "print(l1)\n",
    "print(l2)"
   ]
  },
  {
   "cell_type": "code",
   "execution_count": 15,
   "metadata": {},
   "outputs": [
    {
     "name": "stdout",
     "output_type": "stream",
     "text": [
      "['a', 'b', 'c']\n",
      "['a', 'b', 'c', 'x', 'y']\n",
      "['a', 'b', 'c']\n",
      "..........................\n",
      "['a', 'b', 'c']\n",
      "['a', 'b', 'c', 'x', 'y']\n",
      "['a', 'b', 'c', 'x', 'y']\n",
      "..........................\n",
      "['a', 'b', 'c']\n",
      "['a', 'b', 'c', 'x', 'y']\n",
      "['a', 'b', 'c']\n",
      "..........................\n",
      "a ('b', 'c', 'd')\n",
      "..........................\n",
      "a b c\n"
     ]
    }
   ],
   "source": [
    "#passing args\n",
    "#side effect\n",
    "def no_side_effect(x):\n",
    "    print(x)\n",
    "    x = x + ['x','y']\n",
    "    print(x)\n",
    "c = ['a','b','c']\n",
    "no_side_effect(c)\n",
    "print(c)\n",
    "print(\"..........................\")\n",
    "    ##############################\n",
    "def side_effect(x):\n",
    "    print(x)\n",
    "    x += ['x','y']\n",
    "    print(x)\n",
    "c = ['a','b','c']\n",
    "side_effect(c)\n",
    "print(c)\n",
    "print(\"..........................\")\n",
    "    ###############no side efffect###############\n",
    "def side_effect2(x):\n",
    "    print(x)\n",
    "    x += ['x','y']\n",
    "    print(x)\n",
    "c = ['a','b','c']\n",
    "side_effect(c[:])\n",
    "print(c)\n",
    "print(\"..........................\")\n",
    "##########( * aeg)#############\n",
    "def f1(x, *y):\n",
    "    print(x, y)\n",
    "\n",
    "f1('a','b','c','d')\n",
    "print(\"..........................\")\n",
    "\n",
    "def f2(x,y,z):\n",
    "    print(x,y,z)\n",
    "l = ['a','b','c']\n",
    "f2(*l)\n",
    "    \n",
    "    \n",
    "    \n",
    "    \n",
    "    \n",
    "    \n",
    "    \n",
    "    \n",
    "    \n",
    "    \n",
    "    \n",
    "    \n",
    "    \n",
    "    \n",
    "    \n",
    "    "
   ]
  },
  {
   "cell_type": "code",
   "execution_count": 1,
   "metadata": {},
   "outputs": [],
   "source": [
    "global x"
   ]
  },
  {
   "cell_type": "code",
   "execution_count": 2,
   "metadata": {},
   "outputs": [
    {
     "name": "stdout",
     "output_type": "stream",
     "text": [
      "11\n"
     ]
    }
   ],
   "source": [
    "## decorators\n",
    "# frist step\n",
    "def succ(x):\n",
    "    return x+1\n",
    "\n",
    "successor = succ\n",
    "print(successor(10))\n",
    "del succ"
   ]
  },
  {
   "cell_type": "code",
   "execution_count": 3,
   "metadata": {},
   "outputs": [
    {
     "name": "stdout",
     "output_type": "stream",
     "text": [
      "i am f\n",
      "im g\n"
     ]
    }
   ],
   "source": [
    "# function inside function\n",
    "def f():\n",
    "    def g():\n",
    "        print(\"im g\")\n",
    "    print(\"i am f\")\n",
    "    g()\n",
    "f()\n"
   ]
  },
  {
   "cell_type": "code",
   "execution_count": 4,
   "metadata": {},
   "outputs": [
    {
     "name": "stdout",
     "output_type": "stream",
     "text": [
      "68.0\n"
     ]
    }
   ],
   "source": [
    "#example\n",
    "def temerature(t):\n",
    "    def ctof(x):\n",
    "        return 9*x/5+32\n",
    "    return ctof(t)\n",
    "print(temerature(20))"
   ]
  },
  {
   "cell_type": "code",
   "execution_count": 5,
   "metadata": {},
   "outputs": [
    {
     "name": "stdout",
     "output_type": "stream",
     "text": [
      "i am f\n",
      "i am g\n"
     ]
    }
   ],
   "source": [
    "# function as parameter\n",
    "def g():\n",
    "    print(\"i am g\")\n",
    "    \n",
    "def f(x):\n",
    "    print(\"i am f\")\n",
    "    x()\n",
    "f(g)"
   ]
  },
  {
   "cell_type": "code",
   "execution_count": 8,
   "metadata": {},
   "outputs": [
    {
     "name": "stdout",
     "output_type": "stream",
     "text": [
      "tan passed to foo\n",
      "[-6.405331196646276, 0.320040389379563, -1.995200412208242]\n"
     ]
    }
   ],
   "source": [
    "#example\n",
    "import math\n",
    "def foo(func):\n",
    "    print(func.__name__+\" passed to foo\")\n",
    "    res = []\n",
    "    for x in [30,60,90]:\n",
    "        res.append(func(x))\n",
    "    return res\n",
    "print(foo(math.tan))"
   ]
  },
  {
   "cell_type": "code",
   "execution_count": 9,
   "metadata": {},
   "outputs": [
    {
     "name": "stdout",
     "output_type": "stream",
     "text": [
      "11\n"
     ]
    }
   ],
   "source": [
    "#functiion return function\n",
    "def f(x):\n",
    "    def g(y):\n",
    "        return x+y\n",
    "    return g\n",
    "f1 = f(5)\n",
    "print(f1(6))"
   ]
  },
  {
   "cell_type": "code",
   "execution_count": 11,
   "metadata": {},
   "outputs": [
    {
     "name": "stdout",
     "output_type": "stream",
     "text": [
      "81\n"
     ]
    }
   ],
   "source": [
    "#example\n",
    "def polynomial_creator(a,b,c):\n",
    "    def polynomial(x):\n",
    "        return a*x**2+b*x+c\n",
    "    return polynomial\n",
    "\n",
    "p1 = polynomial_creator(2,5,6)\n",
    "print(p1(5))"
   ]
  },
  {
   "cell_type": "code",
   "execution_count": 13,
   "metadata": {},
   "outputs": [
    {
     "name": "stdout",
     "output_type": "stream",
     "text": [
      "call foo before decorate\n",
      "foo caled by Hi\n",
      "now decorate\n",
      "before calling foo\n",
      "foo caled by 405\n",
      "after calling foo\n",
      "None\n"
     ]
    }
   ],
   "source": [
    "#asimple decorator\n",
    "def our_decorator(func):\n",
    "    \n",
    "    def func_wrapper(x):\n",
    "        print(\"before calling \"+func.__name__)\n",
    "        func(x)\n",
    "        print(\"after calling \"+func.__name__)\n",
    "    \n",
    "    return func_wrapper\n",
    "############\n",
    "def foo(x):\n",
    "    print(\"foo caled by \"+str(x))\n",
    "    \n",
    "print(\"call foo before decorate\")\n",
    "foo(\"Hi\")\n",
    "print(\"now decorate\")\n",
    "foo = our_decorator(foo)\n",
    "print(foo(405))"
   ]
  },
  {
   "cell_type": "code",
   "execution_count": 14,
   "metadata": {},
   "outputs": [],
   "source": [
    "#Files\n",
    "## file object = open(file_name, access_mode, buffering)\n",
    "# r : opening a file for reading only\n",
    "# rb: open a file for reading only in binary format\n",
    "# r+: open for read and write => pointer place at the begining \n",
    "# rb+ : read and write in binary format\n",
    "# w : writing only => owerwrite or creat if file dont exist\n",
    "# wb : ''' in binary\n",
    "# w+ : both , \n",
    "# wb + :\n",
    "# a : appending , pointer is at the end\n",
    "# ab: \n",
    "# a+appending and reading\n",
    "# ab+"
   ]
  },
  {
   "cell_type": "code",
   "execution_count": 15,
   "metadata": {},
   "outputs": [
    {
     "name": "stdout",
     "output_type": "stream",
     "text": [
      "file1.txt\n",
      "wb\n",
      "False\n"
     ]
    }
   ],
   "source": [
    "fo = open(\"file1.txt\",\"wb\")\n",
    "print(fo.name)\n",
    "print(fo.mode)\n",
    "print(fo.closed)\n"
   ]
  },
  {
   "cell_type": "code",
   "execution_count": 18,
   "metadata": {},
   "outputs": [],
   "source": [
    "#write()\n",
    "fo = open(\"file1.txt\",\"w\")\n",
    "fo.write(\"python is a great language\\nYes it is\")\n",
    "fo.close()"
   ]
  },
  {
   "cell_type": "code",
   "execution_count": 19,
   "metadata": {},
   "outputs": [
    {
     "name": "stdout",
     "output_type": "stream",
     "text": [
      "python is a great language\n",
      "Yes it is\n"
     ]
    }
   ],
   "source": [
    "#read()\n",
    "fo = open(\"file1.txt\",\"r+\")\n",
    "str1 = fo.read()\n",
    "print(str1)"
   ]
  },
  {
   "cell_type": "code",
   "execution_count": 22,
   "metadata": {},
   "outputs": [],
   "source": [
    "#os\n",
    "import os\n",
    "os.mkdir(\"mehrandir\")"
   ]
  },
  {
   "cell_type": "code",
   "execution_count": 24,
   "metadata": {},
   "outputs": [],
   "source": [
    "import os\n",
    "os.rename(\"mehrandir\",\"mehranok\")"
   ]
  },
  {
   "cell_type": "code",
   "execution_count": 25,
   "metadata": {},
   "outputs": [],
   "source": [
    "import os\n",
    "os.rmdir(\"mehranok\")"
   ]
  },
  {
   "cell_type": "code",
   "execution_count": 1,
   "metadata": {},
   "outputs": [],
   "source": [
    "#os.remove()\n",
    "#os.chdir()\n",
    "#os.getcwd()"
   ]
  },
  {
   "cell_type": "code",
   "execution_count": 2,
   "metadata": {},
   "outputs": [
    {
     "name": "stdout",
     "output_type": "stream",
     "text": [
      "<_sre.SRE_Match object; span=(0, 17), match='The rain in Spain'>\n"
     ]
    }
   ],
   "source": [
    "# regular expression\n",
    "import re\n",
    "txt = \"The rain in Spain\"\n",
    "x = re.search(\"^The.*Spain$\",txt)\n",
    "print(x)"
   ]
  },
  {
   "cell_type": "code",
   "execution_count": 3,
   "metadata": {},
   "outputs": [
    {
     "name": "stdout",
     "output_type": "stream",
     "text": [
      "['h', 'e', 'a', 'i', 'i', 'a', 'i']\n"
     ]
    }
   ],
   "source": [
    "## []\n",
    "str1 = \"The rain in Spain\"\n",
    "x1 = re.findall(r\"[a-m]\", str1)\n",
    "print(x1)"
   ]
  },
  {
   "cell_type": "code",
   "execution_count": 4,
   "metadata": {},
   "outputs": [
    {
     "name": "stdout",
     "output_type": "stream",
     "text": [
      "['3', '0']\n"
     ]
    }
   ],
   "source": [
    "## find all digits\n",
    "str = \"That will be 30 dollars\"\n",
    "x = re.findall(r\"\\d\", str)\n",
    "print(x)"
   ]
  },
  {
   "cell_type": "code",
   "execution_count": 7,
   "metadata": {},
   "outputs": [
    {
     "name": "stdout",
     "output_type": "stream",
     "text": [
      "['hello']\n"
     ]
    }
   ],
   "source": [
    "## dot( . )اون قسمتایی که نمیدونیم با نقطه\n",
    "str = \"hello world\"\n",
    "x = re.findall(r\"he..o\", str)\n",
    "print(x)"
   ]
  },
  {
   "cell_type": "code",
   "execution_count": 10,
   "metadata": {},
   "outputs": [
    {
     "name": "stdout",
     "output_type": "stream",
     "text": [
      "['all']\n"
     ]
    }
   ],
   "source": [
    "# ^ check start of a string\n",
    "# $ chesk end of a string\n",
    "# * zero or more accurences\n",
    "# + one or more accurences\n",
    "# | or => x|y یکی از این دوتا باشه\n",
    "# {} exactly the specified number of accurences\n",
    "str = \"The rain in Spain falls mainly in the plain!\"\n",
    "x = re.findall(r\"al{2}\", str)\n",
    "print(x)\n",
    "# WTF? :|"
   ]
  },
  {
   "cell_type": "code",
   "execution_count": 11,
   "metadata": {},
   "outputs": [],
   "source": [
    "# special characters\n",
    "# \\Ajafar check if the string start with jafar\n",
    "# \\b check if \"sth\" is start of a world or end of it\n",
    "# mehranok => \\bmeh or nok\\b\n",
    "# \\B برعکس قبلی\n",
    "# \\d chaeck digits is there or not\n",
    "# \\D برعکس قبلی\n",
    "# \\s check white space\n",
    "# \\S reverse\n",
    "# \\w checking word is there or not\n",
    "# \\W revers\n",
    "# \\Z check end of string finishet by \"sth\""
   ]
  },
  {
   "cell_type": "code",
   "execution_count": 12,
   "metadata": {},
   "outputs": [
    {
     "name": "stdout",
     "output_type": "stream",
     "text": [
      "['jafar']\n",
      "<_sre.SRE_Match object; span=(0, 5), match='jafar'>\n"
     ]
    }
   ],
   "source": [
    "# \\A\n",
    "str = \"jafar is coming\"\n",
    "x = re.findall(r\"\\Ajafar\",str)\n",
    "y = re.search(r\"\\Ajafar\",str)\n",
    "print(x)\n",
    "print(y)"
   ]
  },
  {
   "cell_type": "code",
   "execution_count": 14,
   "metadata": {},
   "outputs": [
    {
     "name": "stdout",
     "output_type": "stream",
     "text": [
      "['lo']\n",
      "['ane']\n",
      "<_sre.SRE_Match object; span=(2, 4), match='lo'>\n",
      "<_sre.SRE_Match object; span=(12, 15), match='ane'>\n"
     ]
    }
   ],
   "source": [
    "# \\b\n",
    "str = \"i love airplane and airport\"\n",
    "x = re.findall(r\"\\blo\",str)\n",
    "y = re.findall(r\"ane\\b\",str)\n",
    "print(x)\n",
    "print(y)\n",
    "x = re.search(r\"\\blo\",str)\n",
    "y = re.search(r\"ane\\b\",str)\n",
    "print(x)\n",
    "print(y)"
   ]
  },
  {
   "cell_type": "code",
   "execution_count": 15,
   "metadata": {},
   "outputs": [
    {
     "name": "stdout",
     "output_type": "stream",
     "text": [
      "['a', 'i', 'n', 'i', 'n', 'a', 'i', 'n']\n"
     ]
    }
   ],
   "source": [
    "# sets []\n",
    "str = \"The rain in Spain\"\n",
    "x = re.findall(r\"[ain]\", str)\n",
    "print(x)"
   ]
  },
  {
   "cell_type": "code",
   "execution_count": 16,
   "metadata": {},
   "outputs": [
    {
     "name": "stdout",
     "output_type": "stream",
     "text": [
      "['h', 'e', 'i', 'i', 'i']\n"
     ]
    }
   ],
   "source": [
    "# [a-z]\n",
    "x = re.findall(r\"[c-l]\", str)\n",
    "print(x)"
   ]
  },
  {
   "cell_type": "code",
   "execution_count": 17,
   "metadata": {},
   "outputs": [
    {
     "name": "stdout",
     "output_type": "stream",
     "text": [
      "['T', ' ', 'r', 'a', 'n', ' ', 'n', ' ', 'S', 'p', 'a', 'n']\n"
     ]
    }
   ],
   "source": [
    "# [^xyz] all characters except x,y,z\n",
    "print( re.findall(r\"[^c-l]\",str) )"
   ]
  },
  {
   "cell_type": "code",
   "execution_count": 21,
   "metadata": {},
   "outputs": [
    {
     "name": "stdout",
     "output_type": "stream",
     "text": [
      "['', '', '', ' ', '', '', '', ' ', '', ' ', '', '', '', '', '']\n",
      "['The', 'rain', 'in', 'Spain']\n"
     ]
    }
   ],
   "source": [
    "# findall()\n",
    "# search()\n",
    "# what do u think men? :|\n",
    "\n",
    "# split()\n",
    "print( re.split(r\"\\w\",str) )\n",
    "print( re.split(r\"\\s\",str) )"
   ]
  },
  {
   "cell_type": "code",
   "execution_count": 22,
   "metadata": {},
   "outputs": [
    {
     "name": "stdout",
     "output_type": "stream",
     "text": [
      "The ra*n *n Spa*n\n"
     ]
    }
   ],
   "source": [
    "# sub() ewplace some where or some words with sth\n",
    "print( re.sub(r\"i\",r\"*\",str) )"
   ]
  },
  {
   "cell_type": "code",
   "execution_count": 23,
   "metadata": {},
   "outputs": [
    {
     "name": "stdout",
     "output_type": "stream",
     "text": [
      "(12, 17)\n"
     ]
    }
   ],
   "source": [
    "# span()\n",
    "print( (re.search(r\"\\bS\\w+\",str).span()) )"
   ]
  },
  {
   "cell_type": "code",
   "execution_count": 1,
   "metadata": {},
   "outputs": [
    {
     "name": "stdout",
     "output_type": "stream",
     "text": [
      "13\n"
     ]
    }
   ],
   "source": [
    "# lambda and map\n",
    "sum = lambda x,y: x+y\n",
    "print(sum(5,8))"
   ]
  },
  {
   "cell_type": "code",
   "execution_count": 3,
   "metadata": {},
   "outputs": [
    {
     "name": "stdout",
     "output_type": "stream",
     "text": [
      "[95.0, 208.4, 114.8, 136.4, 159.8, 192.20000000000002, 134.60000000000002, 84.2]\n",
      "[35.0, 98.00000000000001, 46.0, 58.00000000000001, 71.00000000000001, 89.00000000000001, 57.000000000000014, 29.000000000000004]\n"
     ]
    }
   ],
   "source": [
    "#map(func, seq)\n",
    "def Fahrenheit(T):\n",
    "    return (float(9)/5)*T+32\n",
    "def Celsius(T):\n",
    "    return (float(5)/9)*(T-32)\n",
    "temperatures = [35,98,46,58,71,89,57,29]\n",
    "temperatures_in_fahrenheit = list(map(Fahrenheit,temperatures))\n",
    "temperature_in_calsius = list(map(Celsius,temperatures_in_fahrenheit))\n",
    "print(temperatures_in_fahrenheit)\n",
    "print(temperature_in_calsius)"
   ]
  },
  {
   "cell_type": "code",
   "execution_count": 5,
   "metadata": {},
   "outputs": [
    {
     "name": "stdout",
     "output_type": "stream",
     "text": [
      "[102.56, 97.7, 99.14, 100.4, 98.60000000000001, 46.4]\n"
     ]
    }
   ],
   "source": [
    "# now use lambda\n",
    "C = [39.2, 36.5, 37.3,38, 37,8]\n",
    "F = list(\n",
    "    map(\n",
    "        lambda x:(float(9)/5)*x+32\n",
    "        ,C))\n",
    "print(F)"
   ]
  },
  {
   "cell_type": "code",
   "execution_count": 6,
   "metadata": {},
   "outputs": [
    {
     "name": "stdout",
     "output_type": "stream",
     "text": [
      "[17, 10, 19]\n"
     ]
    }
   ],
   "source": [
    "# map lambda\n",
    "a = [1,2,3]\n",
    "b = [17,12,11,10]\n",
    "c = [-1,-4,5,9]\n",
    "print(list(map( lambda x,y,z:x+y+z,a,b,c )))"
   ]
  },
  {
   "cell_type": "code",
   "execution_count": 7,
   "metadata": {},
   "outputs": [
    {
     "name": "stdout",
     "output_type": "stream",
     "text": [
      "[1.2246467991473532e-16, -1.0, -1.2246467991473532e-16]\n"
     ]
    }
   ],
   "source": [
    "# continues\n",
    "from math import *\n",
    "def map_function(x, function):\n",
    "    res = []\n",
    "    for func in function:\n",
    "        res.append(func(x))\n",
    "    return res\n",
    "family_of_function = (sin, cos, tan)\n",
    "print(map_function(pi, family_of_function))"
   ]
  },
  {
   "cell_type": "code",
   "execution_count": 9,
   "metadata": {},
   "outputs": [
    {
     "name": "stdout",
     "output_type": "stream",
     "text": [
      "[1, 1, 3, 5, 13, 21, 55]\n",
      "[0, 2, 8, 34]\n"
     ]
    }
   ],
   "source": [
    "# filtring()\n",
    "fibonacci = [0,1,1,2,3,5,8,13,21,34,55]\n",
    "odd_numbers = list( filter(lambda x:x%2, fibonacci) )\n",
    "even_numbers = list( filter(lambda x: not x%2, fibonacci) )\n",
    "print(odd_numbers)\n",
    "print(even_numbers)"
   ]
  },
  {
   "cell_type": "code",
   "execution_count": 10,
   "metadata": {},
   "outputs": [
    {
     "name": "stdout",
     "output_type": "stream",
     "text": [
      "113\n"
     ]
    }
   ],
   "source": [
    "#reduse()\n",
    "import functools\n",
    "res = functools.reduce(lambda x,y:x+y, [47,11,42,13] )\n",
    "print(res)"
   ]
  },
  {
   "cell_type": "code",
   "execution_count": 11,
   "metadata": {},
   "outputs": [
    {
     "name": "stdout",
     "output_type": "stream",
     "text": [
      "[102.56, 97.7, 99.14, 100.03999999999999]\n"
     ]
    }
   ],
   "source": [
    "# list comprehension\n",
    "# some example\n",
    "Celsius = [39.2, 36.5, 37.3, 37.8]\n",
    "Fahrenheit = [ (float(9)/5)*x+32 for x in Celsius ]\n",
    "print(Fahrenheit)"
   ]
  },
  {
   "cell_type": "code",
   "execution_count": 15,
   "metadata": {},
   "outputs": [
    {
     "name": "stdout",
     "output_type": "stream",
     "text": [
      "[(3, 4, 5), (5, 12, 13), (6, 8, 10), (7, 24, 25), (8, 15, 17), (9, 12, 15), (9, 40, 41), (10, 24, 26), (11, 60, 61), (12, 16, 20), (12, 35, 37), (13, 84, 85), (14, 48, 50), (15, 20, 25), (15, 36, 39), (16, 30, 34), (16, 63, 65), (18, 24, 30), (18, 80, 82), (20, 21, 29), (20, 48, 52), (21, 28, 35), (21, 72, 75), (24, 32, 40), (24, 45, 51), (24, 70, 74), (25, 60, 65), (27, 36, 45), (28, 45, 53), (30, 40, 50), (30, 72, 78), (32, 60, 68), (33, 44, 55), (33, 56, 65), (35, 84, 91), (36, 48, 60), (36, 77, 85), (39, 52, 65), (39, 80, 89), (40, 42, 58), (40, 75, 85), (42, 56, 70), (45, 60, 75), (48, 55, 73), (48, 64, 80), (51, 68, 85), (54, 72, 90), (57, 76, 95), (60, 63, 87), (65, 72, 97)]\n"
     ]
    }
   ],
   "source": [
    "# a^2 + b^2 = c^2\n",
    "mylist = [(x,y,z) for x in range(1,100) for y in range(x,100) \n",
    "          for z in range(y,100) if x**2+y**2==z**2]\n",
    "print(mylist)"
   ]
  },
  {
   "cell_type": "code",
   "execution_count": 14,
   "metadata": {},
   "outputs": [
    {
     "name": "stdout",
     "output_type": "stream",
     "text": [
      "[('red', 'car'), ('red', 'home'), ('red', 'dog'), ('red', 'dildo'), ('red', 'cock'), ('green', 'car'), ('green', 'home'), ('green', 'dog'), ('green', 'dildo'), ('green', 'cock'), ('black', 'car'), ('black', 'home'), ('black', 'dog'), ('black', 'dildo'), ('black', 'cock'), ('yellow', 'car'), ('yellow', 'home'), ('yellow', 'dog'), ('yellow', 'dildo'), ('yellow', 'cock')]\n"
     ]
    }
   ],
   "source": [
    "# A X B\n",
    "colours = [\"red\",\"green\",\"black\",\"yellow\"]\n",
    "things = [\"car\",\"home\",\"dog\",\"dildo\",\"cock\"]\n",
    "coloures_things = [(x,y) for x in colours for y in things]\n",
    "print(coloures_things)"
   ]
  },
  {
   "cell_type": "code",
   "execution_count": 17,
   "metadata": {},
   "outputs": [
    {
     "name": "stdout",
     "output_type": "stream",
     "text": [
      "[0, 1, 4, 9, 16, 25, 36, 49, 64, 81, 100, 121, 144, 169, 196, 225, 256, 289, 324, 361]\n"
     ]
    }
   ],
   "source": [
    "# generator comprehension\n",
    "mylist = (x**2 for x in range(20))\n",
    "print(list(mylist))"
   ]
  },
  {
   "cell_type": "code",
   "execution_count": 18,
   "metadata": {},
   "outputs": [
    {
     "name": "stdout",
     "output_type": "stream",
     "text": [
      "[2, 3, 5, 7, 11, 13, 17, 19, 23, 29, 31, 37, 41, 43, 47, 53, 59, 61, 67, 71, 73, 79, 83, 89, 97]\n"
     ]
    }
   ],
   "source": [
    "# examples\n",
    "# primes numbers\n",
    "noprimes = [j for i in range(2,8) for j in range(i*2,100,i)]\n",
    "primes = [x for x in range(2,100) if x not in noprimes]\n",
    "print(primes)"
   ]
  },
  {
   "cell_type": "code",
   "execution_count": null,
   "metadata": {},
   "outputs": [],
   "source": [
    "## iterator and generator forgotten"
   ]
  },
  {
   "cell_type": "code",
   "execution_count": null,
   "metadata": {},
   "outputs": [],
   "source": []
  },
  {
   "cell_type": "code",
   "execution_count": null,
   "metadata": {},
   "outputs": [],
   "source": [
    "## exception handling"
   ]
  },
  {
   "cell_type": "code",
   "execution_count": 6,
   "metadata": {},
   "outputs": [
    {
     "name": "stdout",
     "output_type": "stream",
     "text": [
      "enter an integer : 7.2\n",
      "I say enter an integer man!\n",
      "enter an integer : 3\n",
      "Yeeeyyyyhhhh !!!!\n"
     ]
    }
   ],
   "source": [
    "while True:\n",
    "    try:\n",
    "        n = input(\"enter an integer : \")\n",
    "        n = int(n)\n",
    "        break\n",
    "    except ValueError:\n",
    "        print(\"I say enter an integer man!\")\n",
    "print(\"Yeeeyyyyhhhh !!!!\")"
   ]
  },
  {
   "cell_type": "code",
   "execution_count": 14,
   "metadata": {},
   "outputs": [
    {
     "name": "stdout",
     "output_type": "stream",
     "text": [
      "Value Error\n"
     ]
    }
   ],
   "source": [
    "import sys\n",
    "try:\n",
    "    f = open(\"file_name.txt\")\n",
    "    s = f.readline()\n",
    "    i = int(s.strip())\n",
    "except IOError as e:\n",
    "    errorno, strerror = e.args\n",
    "    print(\"IOError({0}):{1}\".format(errorno, strerror))\n",
    "except ValueError:\n",
    "    print(\"Value Error\")\n",
    "    \n",
    "except:\n",
    "    print(\"unexcepted error\",sys.exc_info())\n",
    "    raise"
   ]
  },
  {
   "cell_type": "code",
   "execution_count": 17,
   "metadata": {},
   "outputs": [
    {
     "name": "stdout",
     "output_type": "stream",
     "text": [
      "I/O error or Value error\n"
     ]
    }
   ],
   "source": [
    "try:\n",
    "    f = open(\"file_name.txt\")\n",
    "    s = f.readline()\n",
    "    i = int(s.strip())\n",
    "except (IOError, ValueError):\n",
    "    print(\"I/O error or Value error\")\n",
    "except:\n",
    "    print(\"unexpected\")\n",
    "    raise"
   ]
  },
  {
   "cell_type": "code",
   "execution_count": 18,
   "metadata": {},
   "outputs": [
    {
     "name": "stdout",
     "output_type": "stream",
     "text": [
      "got it :  invalid literal for int() with base 10: 'foure'\n"
     ]
    }
   ],
   "source": [
    "def f():\n",
    "    x = int(\"foure\")\n",
    "try:\n",
    "    f()\n",
    "except ValueError as e:\n",
    "    print(\"got it : \", e)"
   ]
  },
  {
   "cell_type": "code",
   "execution_count": 19,
   "metadata": {},
   "outputs": [
    {
     "name": "stdout",
     "output_type": "stream",
     "text": [
      "got it in the func :  invalid literal for int() with base 10: 'four'\n"
     ]
    }
   ],
   "source": [
    "def f():\n",
    "    try:\n",
    "        x = int(\"four\")\n",
    "    except ValueError as e:\n",
    "        print(\"got it in the func : \", e)\n",
    "try:\n",
    "    f()\n",
    "except ValueError as e:\n",
    "    print(\"got it : \", e)"
   ]
  },
  {
   "cell_type": "code",
   "execution_count": 20,
   "metadata": {},
   "outputs": [
    {
     "ename": "SyntaxError",
     "evalue": "sorry (<string>)",
     "output_type": "error",
     "traceback": [
      "Traceback \u001b[0;36m(most recent call last)\u001b[0m:\n",
      "  File \u001b[1;32m\"/home/mehran/.local/lib/python3.6/site-packages/IPython/core/interactiveshell.py\"\u001b[0m, line \u001b[1;32m3325\u001b[0m, in \u001b[1;35mrun_code\u001b[0m\n    exec(code_obj, self.user_global_ns, self.user_ns)\n",
      "\u001b[0;36m  File \u001b[0;32m\"<ipython-input-20-1a7cace7f1f2>\"\u001b[0;36m, line \u001b[0;32m2\u001b[0;36m, in \u001b[0;35m<module>\u001b[0;36m\u001b[0m\n\u001b[0;31m    raise SyntaxError(\"sorry\")\u001b[0m\n",
      "\u001b[0;36m  File \u001b[0;32m\"<string>\"\u001b[0;36m, line \u001b[0;32munknown\u001b[0m\n\u001b[0;31mSyntaxError\u001b[0m\u001b[0;31m:\u001b[0m sorry\n"
     ]
    }
   ],
   "source": [
    "## custom made exception\n",
    "raise SyntaxError(\"sorry\")"
   ]
  },
  {
   "cell_type": "code",
   "execution_count": 22,
   "metadata": {},
   "outputs": [
    {
     "ename": "MyExpection",
     "evalue": "An expection dosen't always prove the rule",
     "output_type": "error",
     "traceback": [
      "\u001b[0;31m---------------------------------------------------------------------------\u001b[0m",
      "\u001b[0;31mMyExpection\u001b[0m                               Traceback (most recent call last)",
      "\u001b[0;32m<ipython-input-22-570f2d96359e>\u001b[0m in \u001b[0;36m<module>\u001b[0;34m\u001b[0m\n\u001b[1;32m      1\u001b[0m \u001b[0;32mclass\u001b[0m \u001b[0mMyExpection\u001b[0m\u001b[0;34m(\u001b[0m\u001b[0mException\u001b[0m\u001b[0;34m)\u001b[0m\u001b[0;34m:\u001b[0m\u001b[0;34m\u001b[0m\u001b[0;34m\u001b[0m\u001b[0m\n\u001b[1;32m      2\u001b[0m     \u001b[0;32mpass\u001b[0m\u001b[0;34m\u001b[0m\u001b[0;34m\u001b[0m\u001b[0m\n\u001b[0;32m----> 3\u001b[0;31m \u001b[0;32mraise\u001b[0m \u001b[0mMyExpection\u001b[0m\u001b[0;34m(\u001b[0m\u001b[0;34m\"An expection dosen't always prove the rule\"\u001b[0m\u001b[0;34m)\u001b[0m\u001b[0;34m\u001b[0m\u001b[0;34m\u001b[0m\u001b[0m\n\u001b[0m",
      "\u001b[0;31mMyExpection\u001b[0m: An expection dosen't always prove the rule"
     ]
    }
   ],
   "source": [
    "#نمیدونم چیه\n",
    "class MyExpection(Exception):\n",
    "    pass\n",
    "raise MyExpection(\"An expection dosen't always prove the rule\")"
   ]
  },
  {
   "cell_type": "code",
   "execution_count": 26,
   "metadata": {},
   "outputs": [
    {
     "name": "stdout",
     "output_type": "stream",
     "text": [
      "enter a num: 1\n",
      "there may or may not have been an exception\n",
      "1.0\n"
     ]
    }
   ],
   "source": [
    "## clean up action (try ... finally)\n",
    "try:\n",
    "    n = float(input(\"enter a num: \"))\n",
    "    inverse = 1.0 / n\n",
    "finally:\n",
    "    print(\"there may or may not have been an exception\")\n",
    "print(inverse)"
   ]
  },
  {
   "cell_type": "code",
   "execution_count": 27,
   "metadata": {},
   "outputs": [
    {
     "name": "stdout",
     "output_type": "stream",
     "text": [
      "enter a num: 0\n",
      "infinity\n",
      "there may or may not have been an exception\n",
      "1.0\n"
     ]
    }
   ],
   "source": [
    "## combining try except finally\n",
    "try:\n",
    "    n = float(input(\"enter a num: \"))\n",
    "    inverse = 1.0 / n\n",
    "except ValueError:\n",
    "    print(\"value error\")\n",
    "except ZeroDivisionError:\n",
    "    print(\"infinity\")\n",
    "finally:\n",
    "    print(\"there may or may not have been an exception\")\n",
    "print(inverse)"
   ]
  },
  {
   "cell_type": "code",
   "execution_count": 31,
   "metadata": {},
   "outputs": [
    {
     "name": "stdout",
     "output_type": "stream",
     "text": [
      "conturbabimus illa, ne sciamus,\n",
      "\n"
     ]
    }
   ],
   "source": [
    "## else clause\n",
    "import sys\n",
    "file_name = \"file_name.txt\"\n",
    "text = []\n",
    "try:\n",
    "    fh = open(file_name, 'r')\n",
    "except IOError:\n",
    "    print(\"I/O error\")\n",
    "else:\n",
    "    text = fh.readlines()\n",
    "    fh.close()\n",
    "if text :\n",
    "    print(text[10])"
   ]
  },
  {
   "cell_type": "code",
   "execution_count": null,
   "metadata": {},
   "outputs": [],
   "source": [
    "#Python Tests خوانده نشد"
   ]
  },
  {
   "cell_type": "code",
   "execution_count": null,
   "metadata": {},
   "outputs": [],
   "source": [
    "#*****\n",
    "#*****\n",
    "#*****\n",
    "#*****\n",
    "## object oriented programing\n",
    "#*****\n",
    "#*****\n",
    "#*****\n",
    "#*****"
   ]
  },
  {
   "cell_type": "code",
   "execution_count": 1,
   "metadata": {},
   "outputs": [
    {
     "name": "stdout",
     "output_type": "stream",
     "text": [
      "<class 'int'>\n",
      "<class 'float'>\n",
      "<class 'str'>\n",
      "<class 'function'>\n",
      "<class 'module'>\n"
     ]
    }
   ],
   "source": [
    "x = 42\n",
    "print(type(x))\n",
    "y = 14.435\n",
    "print(type(y))\n",
    "z = \"mehranok\"\n",
    "print(type(z))\n",
    "def f(x):\n",
    "    return x+1\n",
    "print(type(f))\n",
    "import math\n",
    "print(type(math))"
   ]
  },
  {
   "cell_type": "code",
   "execution_count": 2,
   "metadata": {},
   "outputs": [
    {
     "name": "stdout",
     "output_type": "stream",
     "text": [
      "True\n",
      "False\n"
     ]
    }
   ],
   "source": [
    "## aminimal class in python\n",
    "class Robot:\n",
    "    pass\n",
    "if __name__ == \"__main__\":\n",
    "    x = Robot()\n",
    "    y = Robot()\n",
    "    y2 = y\n",
    "    print(y == y2)\n",
    "    print(y==x)"
   ]
  },
  {
   "cell_type": "code",
   "execution_count": 4,
   "metadata": {},
   "outputs": [
    {
     "name": "stdout",
     "output_type": "stream",
     "text": [
      "Marvin\n",
      "1993\n",
      "{'name': 'Marvin', 'built_year': '1997'}\n",
      "{'name': 'Caliban', 'built_year': '1993'}\n"
     ]
    }
   ],
   "source": [
    "#attributes\n",
    "class Rpbot:\n",
    "    pass\n",
    "x = Robot()\n",
    "y = Robot()\n",
    "\n",
    "x.name = \"Marvin\"\n",
    "x.built_year = \"1997\"\n",
    "\n",
    "y.name = \"Caliban\"\n",
    "y.built_year = \"1993\"\n",
    "\n",
    "print(x.name)\n",
    "print(y.built_year)\n",
    "\n",
    "print(x.__dict__)\n",
    "print(y.__dict__)"
   ]
  },
  {
   "cell_type": "code",
   "execution_count": 9,
   "metadata": {},
   "outputs": [
    {
     "name": "stdout",
     "output_type": "stream",
     "text": [
      "Kuka\n",
      "Sony\n",
      "{'brand': 'Sony'}\n",
      "{'__module__': '__main__', '__dict__': <attribute '__dict__' of 'Robot' objects>, '__weakref__': <attribute '__weakref__' of 'Robot' objects>, '__doc__': None, 'brand': 'Kuka'}\n"
     ]
    }
   ],
   "source": [
    "class Robot(object):\n",
    "    pass\n",
    "x = Robot()\n",
    "Robot.brand = \"Kuka\"\n",
    "print(x.brand)\n",
    "x.brand = \"Sony\"\n",
    "print(x.brand)\n",
    "print(x.__dict__)\n",
    "print(Robot.__dict__)\n",
    "##  ERROR Mideh\n",
    "#  getattr(x,'energy',100)\n",
    "#  print(x.energy)"
   ]
  },
  {
   "cell_type": "code",
   "execution_count": 11,
   "metadata": {},
   "outputs": [
    {
     "name": "stdout",
     "output_type": "stream",
     "text": [
      "Hi I am Marvin\n"
     ]
    }
   ],
   "source": [
    "# methods\n",
    "def say_hi(obj):\n",
    "    print(\"Hi I am \"+obj.name)\n",
    "class Robot:\n",
    "    pass\n",
    "x = Robot()\n",
    "x.name = \"Marvin\"\n",
    "say_hi(x)"
   ]
  },
  {
   "cell_type": "code",
   "execution_count": 12,
   "metadata": {},
   "outputs": [
    {
     "name": "stdout",
     "output_type": "stream",
     "text": [
      "__init__ has been executed\n"
     ]
    }
   ],
   "source": [
    "#__init__()\n",
    "class A:\n",
    "    def __init__(self):\n",
    "        print(\"__init__ has been executed\")\n",
    "x = A()"
   ]
  },
  {
   "cell_type": "code",
   "execution_count": 13,
   "metadata": {},
   "outputs": [
    {
     "name": "stdout",
     "output_type": "stream",
     "text": [
      "I haven't any name\n",
      "Hi I am Marvin\n"
     ]
    }
   ],
   "source": [
    "class Robot:\n",
    "    def __init__(self, name=None):\n",
    "        self.name = name\n",
    "    def say_hi(self):\n",
    "        if self.name:\n",
    "            print(\"Hi I am \"+self.name)\n",
    "        else:\n",
    "            print(\"I haven't any name\")\n",
    "x = Robot()\n",
    "x.say_hi()\n",
    "y = Robot(\"Marvin\")\n",
    "y.say_hi()"
   ]
  },
  {
   "cell_type": "code",
   "execution_count": null,
   "metadata": {},
   "outputs": [],
   "source": [
    "##Data Abstraction, Data Encapsulation, and Information Hiding\n",
    "##Data Abstraction = Data Encapsulation + Data Hiding "
   ]
  },
  {
   "cell_type": "code",
   "execution_count": 15,
   "metadata": {},
   "outputs": [
    {
     "name": "stdout",
     "output_type": "stream",
     "text": [
      "Hi I am Henry\n",
      "Henry\n"
     ]
    }
   ],
   "source": [
    "class Robot:\n",
    "    \n",
    "    def __init__(self, name=None):\n",
    "        self.name = name\n",
    "        \n",
    "    def say_hi(self):\n",
    "        if self.name :\n",
    "            print(\"Hi I am \"+self.name)\n",
    "        else:\n",
    "            print(\"I haven't any name\")\n",
    "    \n",
    "    def set_name(self,name):\n",
    "            self.name = name\n",
    "    \n",
    "    def get_name(self):\n",
    "            return self.name\n",
    "\n",
    "x = Robot()\n",
    "x.set_name(\"Henry\")\n",
    "x.say_hi()\n",
    "\n",
    "y = Robot()\n",
    "y.set_name(x.get_name())\n",
    "print(y.get_name())"
   ]
  },
  {
   "cell_type": "code",
   "execution_count": 17,
   "metadata": {},
   "outputs": [
    {
     "name": "stdout",
     "output_type": "stream",
     "text": [
      "Hi I am mehran\n",
      "I was created in 1999\n",
      "Hi I am Marvin\n",
      "I dont know when I was created\n"
     ]
    }
   ],
   "source": [
    "class Robot:\n",
    "    def __init__(self, name=None, built_year=None):\n",
    "        self.name = name\n",
    "        self.built_year = built_year\n",
    "        \n",
    "    def say_hi(self):\n",
    "        if self.name:\n",
    "            print(\"Hi I am \"+self.name)\n",
    "        else:\n",
    "            print(\"I have no name\")\n",
    "        if self.built_year:\n",
    "            print(\"I was created in \"+str(self.built_year))\n",
    "        else:\n",
    "            print(\"I dont know when I was created\")\n",
    "    \n",
    "    def set_name(self,name):\n",
    "        self.name = name\n",
    "    def get_name(self):\n",
    "        return self.name\n",
    "    \n",
    "    def set_built_year(self,built_year):\n",
    "        self.built_year = built_year\n",
    "    def get_built_year(self):\n",
    "        return self.built_year\n",
    "x = Robot(\"mehran\",\"1999\")\n",
    "x.say_hi()\n",
    "y = Robot()\n",
    "y.set_name(\"Marvin\")\n",
    "y.say_hi()"
   ]
  },
  {
   "cell_type": "code",
   "execution_count": null,
   "metadata": {},
   "outputs": [],
   "source": [
    "# __str__() & __repr__()"
   ]
  },
  {
   "cell_type": "code",
   "execution_count": 18,
   "metadata": {},
   "outputs": [
    {
     "name": "stdout",
     "output_type": "stream",
     "text": [
      "['Python', 'java', 'C++', 'Perl']\n",
      "['Python', 'java', 'C++', 'Perl']\n",
      "['Python', 'java', 'C++', 'Perl']\n"
     ]
    }
   ],
   "source": [
    "l = [\"Python\",\"java\",\"C++\",\"Perl\"]\n",
    "print(l)\n",
    "print(str(l))\n",
    "print(repr(l))"
   ]
  },
  {
   "cell_type": "code",
   "execution_count": 20,
   "metadata": {},
   "outputs": [
    {
     "name": "stdout",
     "output_type": "stream",
     "text": [
      "<class 'str'>\n",
      "<class 'str'>\n"
     ]
    }
   ],
   "source": [
    "x=25.587\n",
    "print(type(str(x)))\n",
    "print(type(repr(x)))"
   ]
  },
  {
   "cell_type": "code",
   "execution_count": 28,
   "metadata": {},
   "outputs": [
    {
     "name": "stdout",
     "output_type": "stream",
     "text": [
      "<__main__.A object at 0x7f96cf54ea90>\n",
      "<__main__.A object at 0x7f96cf54ea90>\n",
      "<__main__.A object at 0x7f96cf54ea90>\n"
     ]
    }
   ],
   "source": [
    "class A:\n",
    "    pass\n",
    "a = A()\n",
    "print(a)\n",
    "print(repr(a))\n",
    "print(str(a))"
   ]
  },
  {
   "cell_type": "code",
   "execution_count": 29,
   "metadata": {},
   "outputs": [
    {
     "name": "stdout",
     "output_type": "stream",
     "text": [
      "<__main__.A object at 0x7f96cf16def0>\n",
      "42\n"
     ]
    }
   ],
   "source": [
    "class A:\n",
    "    def __str__(self):\n",
    "        return \"42\"\n",
    "a = A()\n",
    "print(repr(a))\n",
    "print(str(a))"
   ]
  },
  {
   "cell_type": "code",
   "execution_count": 30,
   "metadata": {},
   "outputs": [
    {
     "name": "stdout",
     "output_type": "stream",
     "text": [
      "42\n",
      "42\n"
     ]
    }
   ],
   "source": [
    "class A:\n",
    "    def __repr__(self):\n",
    "        return \"42\"\n",
    "a = A()\n",
    "print(repr(a))\n",
    "print(str(a))"
   ]
  },
  {
   "cell_type": "code",
   "execution_count": 33,
   "metadata": {},
   "outputs": [
    {
     "name": "stdout",
     "output_type": "stream",
     "text": [
      "Type os x_str:  <class 'str'>\n",
      "Robot('Marvin',1979)\n",
      "Type of new :  <class '__main__.Robot'>\n"
     ]
    }
   ],
   "source": [
    "class Robot:\n",
    "    def __init__(self, name, built_year):\n",
    "        self.name = name\n",
    "        self.built_year = built_year\n",
    "    \n",
    "    def __repr__(self):\n",
    "        return \"Robot('\" + self.name + \"',\" +str(self.built_year)+\")\"\n",
    "if __name__ == \"__main__\":\n",
    "    x = Robot(\"Marvin\",1979)\n",
    "    x_str = str(x)\n",
    "    print(\"Type os x_str: \",type(x_str))\n",
    "    new = eval(x_str)\n",
    "    print(new)\n",
    "    print(\"Type of new : \",type(new))"
   ]
  },
  {
   "cell_type": "code",
   "execution_count": null,
   "metadata": {},
   "outputs": [],
   "source": [
    "## Public- Protected- and Private Attributes"
   ]
  },
  {
   "cell_type": "code",
   "execution_count": null,
   "metadata": {},
   "outputs": [],
   "source": [
    "# name : public\n",
    "# _name : protected\n",
    "# __name : private"
   ]
  },
  {
   "cell_type": "code",
   "execution_count": 35,
   "metadata": {},
   "outputs": [
    {
     "name": "stdout",
     "output_type": "stream",
     "text": [
      "Hi I am Marvin\n",
      "I was built in 1979\n",
      "Hi I am Caliban\n",
      "I was built in 1993\n"
     ]
    }
   ],
   "source": [
    "class Robot:\n",
    "    def __init__(self, name=None, built_year=2000):\n",
    "        self.__name = name\n",
    "        self.__built_year = built_year\n",
    "        \n",
    "    def say_hi(self):\n",
    "        if self.__name:\n",
    "            print(\"Hi I am \" + self.__name)\n",
    "        else:\n",
    "            print(\"I have no name\")\n",
    "    \n",
    "    def set_name(self,name):\n",
    "        self.__name = name\n",
    "    def get_name(self):\n",
    "        return self.__name\n",
    "    \n",
    "    def set_built_year(self,built_year):\n",
    "        self.__built_year = built_year\n",
    "    def get_built_year(self):\n",
    "        return self.__built_year\n",
    "    \n",
    "    def __repr__(self):\n",
    "        return \"Robot \"+self.__name+\" \"+str(self.__built_year)\n",
    "    def __str__(self):\n",
    "        return \"Name: \"+self.__name+\" & Built Year: \"+str(self.__built_year)\n",
    "\n",
    "    \n",
    "if __name__ == \"__main__\" :\n",
    "    x = Robot(\"Marvin\", 1979)\n",
    "    y = Robot(\"Caliban\", 1943)\n",
    "    for rob in [x,y]:\n",
    "        rob.say_hi()\n",
    "        if rob.get_name() == \"Caliban\":\n",
    "            rob.set_built_year(1993)\n",
    "        print(\"I was built in \"+str(rob.get_built_year()))"
   ]
  },
  {
   "cell_type": "code",
   "execution_count": null,
   "metadata": {},
   "outputs": [],
   "source": [
    "## destructor"
   ]
  },
  {
   "cell_type": "code",
   "execution_count": 36,
   "metadata": {},
   "outputs": [
    {
     "name": "stdout",
     "output_type": "stream",
     "text": [
      "Yanki has been created\n",
      "Merveh has been created\n",
      "Yanki deleted\n",
      "Merveh deleted\n"
     ]
    }
   ],
   "source": [
    "class Robot:\n",
    "    def __init__(self,name):\n",
    "        self.name = name\n",
    "        print(self.name+\" has been created\")\n",
    "    def __del__(self):\n",
    "        print(self.name + \" deleted\")\n",
    "        \n",
    "x = Robot(\"Yanki\")\n",
    "y = Robot(\"Merveh\")\n",
    "del x\n",
    "del y"
   ]
  },
  {
   "cell_type": "code",
   "execution_count": null,
   "metadata": {},
   "outputs": [],
   "source": []
  },
  {
   "cell_type": "code",
   "execution_count": null,
   "metadata": {},
   "outputs": [],
   "source": []
  },
  {
   "cell_type": "code",
   "execution_count": null,
   "metadata": {},
   "outputs": [],
   "source": []
  },
  {
   "cell_type": "code",
   "execution_count": null,
   "metadata": {},
   "outputs": [],
   "source": []
  },
  {
   "cell_type": "code",
   "execution_count": null,
   "metadata": {},
   "outputs": [],
   "source": []
  },
  {
   "cell_type": "code",
   "execution_count": null,
   "metadata": {},
   "outputs": [],
   "source": []
  },
  {
   "cell_type": "code",
   "execution_count": null,
   "metadata": {},
   "outputs": [],
   "source": []
  }
 ],
 "metadata": {
  "kernelspec": {
   "display_name": "Python 3",
   "language": "python",
   "name": "python3"
  },
  "language_info": {
   "codemirror_mode": {
    "name": "ipython",
    "version": 3
   },
   "file_extension": ".py",
   "mimetype": "text/x-python",
   "name": "python",
   "nbconvert_exporter": "python",
   "pygments_lexer": "ipython3",
   "version": "3.6.9"
  }
 },
 "nbformat": 4,
 "nbformat_minor": 2
}
